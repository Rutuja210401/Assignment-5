{
 "cells": [
  {
   "cell_type": "code",
   "execution_count": 2,
   "id": "11d05384",
   "metadata": {},
   "outputs": [
    {
     "name": "stdout",
     "output_type": "stream",
     "text": [
      "Enter first number: 1\n",
      "Enter second number: 3\n",
      "Enter third number: 5\n"
     ]
    },
    {
     "data": {
      "text/plain": [
       "35"
      ]
     },
     "execution_count": 2,
     "metadata": {},
     "output_type": "execute_result"
    }
   ],
   "source": [
    "#Challenge 1: Square Numbers and Return Their Sum\n",
    "class Point():\n",
    "    def __init__(self):\n",
    "        self.x = x\n",
    "        self.y = y\n",
    "        self.z = z\n",
    "\n",
    "    def sqSum(self):\n",
    "        sqSum = (x*x)+(y*y)+(z*z)\n",
    "        return(sqSum)\n",
    "    \n",
    "x=int(input(\"Enter first number: \"))\n",
    "y=int(input(\"Enter second number: \"))\n",
    "z=int(input(\"Enter third number: \"))\n",
    "obj = Point()\n",
    "obj.sqSum()\n"
   ]
  },
  {
   "cell_type": "code",
   "execution_count": 3,
   "id": "ced18f1d",
   "metadata": {},
   "outputs": [
    {
     "name": "stdout",
     "output_type": "stream",
     "text": [
      "Enter first number : 20\n",
      "Enter second number : 10\n",
      "sum : 30\n",
      "substraction:  10\n",
      "multiplication:  200\n",
      "division:  2.0\n"
     ]
    }
   ],
   "source": [
    "#Challenge 2: Implement a Calculator Class\n",
    "class calculator():\n",
    "    def __init__(self,x,y):\n",
    "        self.x=x\n",
    "        self.y=y\n",
    "        \n",
    "    def add(self):\n",
    "        print(\"sum :\",self.x+self.y)\n",
    "        \n",
    "    def substraction(self):\n",
    "        print(\"substraction: \",self.x-self.y)\n",
    "        \n",
    "    def multiplication(self):\n",
    "        print(\"multiplication: \",self.x*self.y)\n",
    "        \n",
    "    def division(self):\n",
    "        print(\"division: \",self.x/self.y)\n",
    "        \n",
    "x=int(input(\"Enter first number : \"))\n",
    "y=int(input(\"Enter second number : \"))\n",
    "\n",
    "obj=calculator(x,y)\n",
    "obj.add()\n",
    "obj.substraction()\n",
    "obj.multiplication()\n",
    "obj.division()"
   ]
  },
  {
   "cell_type": "code",
   "execution_count": 4,
   "id": "a8ab1c52",
   "metadata": {},
   "outputs": [
    {
     "name": "stdout",
     "output_type": "stream",
     "text": [
      "Enter the name: abc\n",
      "Enter the rollno: 111\n",
      "abc\n",
      "111\n"
     ]
    }
   ],
   "source": [
    "#Challenge 3: Implement the Complete Student Class\n",
    "\n",
    "class student:\n",
    "    __name=input(\"Enter the name: \")\n",
    "    __rollno=input(\"Enter the rollno: \")\n",
    "    def set_name(self,your_name):\n",
    "        self.__name = your_name\n",
    "        \n",
    "    def get_name(self):\n",
    "        print(self.__name)\n",
    "        \n",
    "    def set_rollno(self,rollno):\n",
    "        self.__rollno = rollno\n",
    "        \n",
    "    def get_rollno(self):\n",
    "        print(self.__rollno)\n",
    "        \n",
    "obj =student()\n",
    "obj.get_name()\n",
    "obj.get_rollno()"
   ]
  },
  {
   "cell_type": "code",
   "execution_count": 5,
   "id": "5264ec4f",
   "metadata": {},
   "outputs": [
    {
     "name": "stdout",
     "output_type": "stream",
     "text": [
      "Enter information for the Account:\n",
      "Enter account title: Ashish\n",
      "Enter account balance: 5000\n",
      "\n",
      "Enter information for the Savings Account:\n",
      "Enter account title: Ashish\n",
      "Enter account balance: 5000\n",
      "Enter interest rate: 5\n",
      "\n",
      "Account Information:\n",
      "Title: Ashish\n",
      "Balance: 5000.0\n",
      "\n",
      "Savings Account Information:\n",
      "Title: Ashish\n",
      "Balance: 5000.0\n",
      "Interest Rate: 5.0\n"
     ]
    }
   ],
   "source": [
    "#Challenge 4: Implement a Banking Account\n",
    "class Account:\n",
    "    def __init__(self, title=None, balance=0):\n",
    "        self.title = title\n",
    "        self.balance = balance\n",
    "\n",
    "    def set_account_info(self):\n",
    "        self.title = input(\"Enter account title: \")\n",
    "        self.balance = float(input(\"Enter account balance: \"))\n",
    "\n",
    "class SavingsAccount(Account):\n",
    "    def __init__(self, title=None, balance=0, interestRate=None):\n",
    "        super().__init__(title, balance)\n",
    "        self.interestRate = interestRate\n",
    "\n",
    "    def set_savings_account_info(self):\n",
    "        super().set_account_info()\n",
    "        self.interestRate = float(input(\"Enter interest rate: \"))\n",
    "\n",
    "print(\"Enter information for the Account:\")\n",
    "account = Account()\n",
    "account.set_account_info()\n",
    "\n",
    "print(\"\\nEnter information for the Savings Account:\")\n",
    "savings_account = SavingsAccount()\n",
    "savings_account.set_savings_account_info()\n",
    "\n",
    "print(\"\\nAccount Information:\")\n",
    "print(f\"Title: {account.title}\")\n",
    "print(f\"Balance: {account.balance}\")\n",
    "\n",
    "print(\"\\nSavings Account Information:\")\n",
    "print(f\"Title: {savings_account.title}\")\n",
    "print(f\"Balance: {savings_account.balance}\")\n",
    "print(f\"Interest Rate: {savings_account.interestRate}\")"
   ]
  },
  {
   "cell_type": "code",
   "execution_count": 7,
   "id": "c5b38c33",
   "metadata": {},
   "outputs": [
    {
     "name": "stdout",
     "output_type": "stream",
     "text": [
      "Enter initial balance: 5000\n",
      "Enter interest rate (%): 5\n",
      "Enter withdrawal amount: 500\n",
      "Enter deposit amount: 500\n",
      "Updated balance: 5000.0\n",
      "Interest amount: 250.0\n"
     ]
    }
   ],
   "source": [
    "#Challenge 5: Handling a Bank Account\n",
    "class Account:\n",
    "    def __init__(self, title=None, balance=0):\n",
    "        self.title = title\n",
    "        self.balance = balance\n",
    "\n",
    "    def withdrawal(self, amount):\n",
    "        self.balance -= amount\n",
    "\n",
    "    def deposit(self, amount):\n",
    "        self.balance += amount\n",
    "\n",
    "    def getBalance(self):\n",
    "        return self.balance\n",
    "\n",
    "class SavingsAccount(Account):\n",
    "    def __init__(self, title=None, balance=0, interestRate=0):\n",
    "        super().__init__(title, balance)\n",
    "        self.interestRate = interestRate\n",
    "\n",
    "    def interestAmount(self):\n",
    "        return (self.balance * self.interestRate) / 100\n",
    "\n",
    "SA = SavingsAccount()\n",
    "\n",
    "SA.balance = float(input(\"Enter initial balance: \"))\n",
    "SA.interestRate = float(input(\"Enter interest rate (%): \"))\n",
    "\n",
    "withdrawal_amount = float(input(\"Enter withdrawal amount: \"))\n",
    "SA.withdrawal(withdrawal_amount)\n",
    "\n",
    "deposit_amount = float(input(\"Enter deposit amount: \"))\n",
    "SA.deposit(deposit_amount)\n",
    "\n",
    "print(\"Updated balance:\", SA.getBalance())\n",
    "\n",
    "interest = SA.interestAmount()\n",
    "print(\"Interest amount:\", interest)"
   ]
  },
  {
   "cell_type": "code",
   "execution_count": null,
   "id": "437492c7",
   "metadata": {},
   "outputs": [],
   "source": []
  }
 ],
 "metadata": {
  "kernelspec": {
   "display_name": "Python 3 (ipykernel)",
   "language": "python",
   "name": "python3"
  },
  "language_info": {
   "codemirror_mode": {
    "name": "ipython",
    "version": 3
   },
   "file_extension": ".py",
   "mimetype": "text/x-python",
   "name": "python",
   "nbconvert_exporter": "python",
   "pygments_lexer": "ipython3",
   "version": "3.11.4"
  }
 },
 "nbformat": 4,
 "nbformat_minor": 5
}
